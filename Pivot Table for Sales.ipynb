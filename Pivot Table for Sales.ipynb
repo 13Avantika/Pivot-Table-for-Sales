{
 "cells": [
  {
   "cell_type": "markdown",
   "id": "82493653",
   "metadata": {},
   "source": [
    "# Pivot Table for Sales"
   ]
  },
  {
   "cell_type": "code",
   "execution_count": 10,
   "id": "46fed35a",
   "metadata": {},
   "outputs": [],
   "source": [
    "import pandas as pd\n",
    "import numpy as np"
   ]
  },
  {
   "cell_type": "code",
   "execution_count": 14,
   "id": "47e0a7ab",
   "metadata": {},
   "outputs": [
    {
     "name": "stdout",
     "output_type": "stream",
     "text": [
      "                               Sale_amt\n",
      "Region  Manager SalesMan               \n",
      "Central Douglas John       41338.666667\n",
      "        Hermann Luis       41274.600000\n",
      "                Shelli      8424.500000\n",
      "                Sigal      41679.166667\n",
      "        Martha  Steven     49922.500000\n",
      "        Timothy David      28191.000000\n",
      "East    Douglas Karen      16068.000000\n",
      "        Martha  Alexander  29587.875000\n",
      "                Diana      18050.000000\n",
      "West    Douglas Michael    33418.000000\n",
      "        Timothy Stephen    22015.750000\n"
     ]
    }
   ],
   "source": [
    "df = pd.read_excel(\"/home/vrushali/Desktop/Practical Questions (AI)/SaleData-1.xlsx\")\n",
    "table = pd.pivot_table(df,index=[\"Region\",\"Manager\",\"SalesMan\"], values=\"Sale_amt\")\n",
    "print(table)"
   ]
  },
  {
   "cell_type": "code",
   "execution_count": 6,
   "id": "f5f4bafb",
   "metadata": {},
   "outputs": [
    {
     "name": "stdout",
     "output_type": "stream",
     "text": [
      "                      Units\n",
      "Region  Item               \n",
      "Central Cell Phone     27.0\n",
      "        Desk            7.0\n",
      "        Home Theater  424.0\n",
      "        Television    498.0\n",
      "        Video Games   243.0\n",
      "East    Cell Phone    175.0\n",
      "        Home Theater  234.0\n",
      "        Television    130.0\n",
      "        Video Games   152.0\n",
      "West    Cell Phone     76.0\n",
      "        Desk            3.0\n",
      "        Home Theater   64.0\n",
      "        Television     88.0\n"
     ]
    }
   ],
   "source": [
    "print(pd.pivot_table(df,index=[\"Region\",\"Item\"],values=\"Units\",aggfunc=np.sum))"
   ]
  },
  {
   "cell_type": "code",
   "execution_count": 7,
   "id": "f68d268d",
   "metadata": {},
   "outputs": [
    {
     "name": "stdout",
     "output_type": "stream",
     "text": [
      "                         sum      \n",
      "                    Sale_amt Units\n",
      "Manager SalesMan                  \n",
      "Douglas John        124016.0   156\n",
      "        Karen        48204.0   170\n",
      "        Michael      66836.0    89\n",
      "Hermann Luis        206373.0   281\n",
      "        Shelli       33698.0   193\n",
      "        Sigal       125037.5   173\n",
      "Martha  Alexander   236703.0   396\n",
      "        Diana        36100.0   125\n",
      "        Steven      199690.0   183\n",
      "Timothy David       140955.0   213\n",
      "        Stephen      88063.0   142\n",
      "All                1305675.5  2121\n"
     ]
    }
   ],
   "source": [
    "table= pd.pivot_table(df,index=[\"Manager\",\"SalesMan\"],values=[\"Units\",\"Sale_amt\"],aggfunc=[np.sum],fill_value=0,margins=True)\n",
    "print(table)"
   ]
  },
  {
   "cell_type": "code",
   "execution_count": 9,
   "id": "d5e113d5",
   "metadata": {},
   "outputs": [
    {
     "name": "stdout",
     "output_type": "stream",
     "text": [
      "                          Sale_amt\n",
      "Region  Manager SalesMan          \n",
      "Central Timothy David     28191.00\n",
      "West    Timothy Stephen   22015.75\n"
     ]
    }
   ],
   "source": [
    "table = pd.pivot_table(df,index=[\"Region\",\"Manager\",\"SalesMan\"], values=\"Sale_amt\")\n",
    "print(table.query('Manager == [\"Timothy\"]'))"
   ]
  },
  {
   "cell_type": "code",
   "execution_count": null,
   "id": "40e65c3b",
   "metadata": {},
   "outputs": [],
   "source": []
  }
 ],
 "metadata": {
  "kernelspec": {
   "display_name": "Python 3 (ipykernel)",
   "language": "python",
   "name": "python3"
  },
  "language_info": {
   "codemirror_mode": {
    "name": "ipython",
    "version": 3
   },
   "file_extension": ".py",
   "mimetype": "text/x-python",
   "name": "python",
   "nbconvert_exporter": "python",
   "pygments_lexer": "ipython3",
   "version": "3.9.7"
  }
 },
 "nbformat": 4,
 "nbformat_minor": 5
}
